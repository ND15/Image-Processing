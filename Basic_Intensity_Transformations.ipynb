{
  "nbformat": 4,
  "nbformat_minor": 0,
  "metadata": {
    "colab": {
      "name": "Basic Intensity Transformations.ipynb",
      "provenance": [],
      "authorship_tag": "ABX9TyOQNA5ToyOJ4mASSQ4AZYJT",
      "include_colab_link": true
    },
    "kernelspec": {
      "name": "python3",
      "display_name": "Python 3"
    },
    "language_info": {
      "name": "python"
    }
  },
  "cells": [
    {
      "cell_type": "markdown",
      "metadata": {
        "id": "view-in-github",
        "colab_type": "text"
      },
      "source": [
        "<a href=\"https://colab.research.google.com/github/ND15/Image-Processing/blob/main/Basic_Intensity_Transformations.ipynb\" target=\"_parent\"><img src=\"https://colab.research.google.com/assets/colab-badge.svg\" alt=\"Open In Colab\"/></a>"
      ]
    },
    {
      "cell_type": "code",
      "execution_count": null,
      "metadata": {
        "id": "gP6WabwAVoWo"
      },
      "outputs": [],
      "source": [
        "import tensorflow as tf\n",
        "from tensorflow import keras"
      ]
    },
    {
      "cell_type": "code",
      "source": [
        "import numpy as np\n",
        "import math\n",
        "import cv2\n",
        "import matplotlib.pyplot as plt\n",
        "from keras.preprocessing.image import load_img\n",
        "from keras.preprocessing.image import img_to_array\n",
        "from keras.preprocessing.image import array_to_img"
      ],
      "metadata": {
        "id": "W3xyDNNJWAzj"
      },
      "execution_count": null,
      "outputs": []
    },
    {
      "cell_type": "code",
      "source": [
        "def read_img(image_path):\n",
        "    image = load_img(image_path)\n",
        "    image = img_to_array(image)\n",
        "    return image"
      ],
      "metadata": {
        "id": "bw08x9S-93UP"
      },
      "execution_count": null,
      "outputs": []
    },
    {
      "cell_type": "code",
      "source": [
        "def negative(image):\n",
        "    L = np.max(image)\n",
        "    row, col = image.shape\n",
        "    out = np.zeros((row, col))\n",
        "    for i in range(row):\n",
        "        for j in range(col):\n",
        "            out[i][j] = L - 1 - image[i][j]\n",
        "    return out"
      ],
      "metadata": {
        "id": "jhRLFHuUx3_V"
      },
      "execution_count": null,
      "outputs": []
    },
    {
      "cell_type": "code",
      "source": [
        "def log_transform(image, c=1):\n",
        "    row, col = image.shape\n",
        "    output = np.zeros((row, col))\n",
        "\n",
        "    for i in range(row):\n",
        "        for j in range(col):\n",
        "            output[i][j] = c * np.log(1 + image[i][j])\n",
        "    return output"
      ],
      "metadata": {
        "id": "x0UyeU4w9New"
      },
      "execution_count": null,
      "outputs": []
    },
    {
      "cell_type": "code",
      "source": [
        "def power_law(image, c=1, gamma=1, epsilon=1e-5):\n",
        "    row, col = image.shape\n",
        "    out = np.zeros((row, col))\n",
        "    for i in range(row):\n",
        "        for j in range(col):\n",
        "            out[i][j] = c * (math.pow((image[i][j]), gamma))\n",
        "\n",
        "    return out"
      ],
      "metadata": {
        "id": "svzuOzdhdoGa"
      },
      "execution_count": null,
      "outputs": []
    },
    {
      "cell_type": "code",
      "source": [
        "def contrast_stretching(image, r1, r2, s1, s2):\n",
        "    row, col = image.shape\n",
        "    output = np.zeros((row, col))\n",
        "    \n",
        "    alpha = (s1 - np.min(image)) / (r1 - np.min(image))\n",
        "    beta = (s2 - s1) / (r2 - r1)\n",
        "    gamma = (np.max(image) - s2) / (np.max(image) - r2)\n",
        "\n",
        "    for i in range(row):\n",
        "        for j in range(col):\n",
        "            if image[i][j] >= np.min(image) and image[i][j] < r1:\n",
        "                output[i][j] = alpha * image[i][j]\n",
        "            \n",
        "            elif image[i][j] >= r1 and image[i][j] < r2:\n",
        "                output[i][j] = beta * (image[i][j] - r1) * s1\n",
        "            \n",
        "            elif image[i][j] >= r2 and image[i][j] <= r2:\n",
        "                output[i][j] = gamma * (image[i][j] - r2) * s2\n",
        "                \n",
        "    return output"
      ],
      "metadata": {
        "id": "pHsDAIvTj6Z7"
      },
      "execution_count": null,
      "outputs": []
    },
    {
      "cell_type": "code",
      "source": [
        "def gradient_magnitude(image):\n",
        "    row, col = image.shape\n",
        "    output = np.zeros(image.shape)\n",
        "\n",
        "    padded_image = np.zeros((row + 2, col + 2))\n",
        "    padded_image[1 : row + 1, 1 : col + 1] = image\n",
        "    for i in range(1, row):\n",
        "        for j in range(1, col):\n",
        "            gx = padded_image[i+1, j] - padded_image[i][j]\n",
        "            gy = padded_image[i, j+1] - padded_image[i][j]\n",
        "            output[i, j] = np.sqrt(gx**2 + gy**2)\n",
        "\n",
        "    return output"
      ],
      "metadata": {
        "id": "sUIeM2CgJVhX"
      },
      "execution_count": null,
      "outputs": []
    }
  ]
}